{
 "cells": [
  {
   "attachments": {},
   "cell_type": "markdown",
   "metadata": {},
   "source": [
    "importing SparkContext"
   ]
  },
  {
   "cell_type": "code",
   "execution_count": 1,
   "metadata": {},
   "outputs": [
    {
     "name": "stdout",
     "output_type": "stream",
     "text": [
      "Requirement already satisfied: pyspark in c:\\users\\utkarsh mahajan\\appdata\\local\\packages\\pythonsoftwarefoundation.python.3.11_qbz5n2kfra8p0\\localcache\\local-packages\\python311\\site-packages (3.4.1)\n",
      "Requirement already satisfied: py4j==0.10.9.7 in c:\\users\\utkarsh mahajan\\appdata\\local\\packages\\pythonsoftwarefoundation.python.3.11_qbz5n2kfra8p0\\localcache\\local-packages\\python311\\site-packages (from pyspark) (0.10.9.7)\n"
     ]
    }
   ],
   "source": [
    "!pip install pyspark\n",
    "from pyspark import SparkContext"
   ]
  },
  {
   "cell_type": "code",
   "execution_count": 2,
   "metadata": {},
   "outputs": [],
   "source": [
    "spark = SparkContext(master='local[2]')"
   ]
  },
  {
   "cell_type": "code",
   "execution_count": 3,
   "metadata": {},
   "outputs": [
    {
     "data": {
      "text/html": [
       "\n",
       "        <div>\n",
       "            <p><b>SparkContext</b></p>\n",
       "\n",
       "            <p><a href=\"http://LAPTOP-3QA2K5MP:4040\">Spark UI</a></p>\n",
       "\n",
       "            <dl>\n",
       "              <dt>Version</dt>\n",
       "                <dd><code>v3.4.1</code></dd>\n",
       "              <dt>Master</dt>\n",
       "                <dd><code>local[2]</code></dd>\n",
       "              <dt>AppName</dt>\n",
       "                <dd><code>pyspark-shell</code></dd>\n",
       "            </dl>\n",
       "        </div>\n",
       "        "
      ],
      "text/plain": [
       "<SparkContext master=local[2] appName=pyspark-shell>"
      ]
     },
     "execution_count": 3,
     "metadata": {},
     "output_type": "execute_result"
    }
   ],
   "source": [
    "spark"
   ]
  },
  {
   "attachments": {},
   "cell_type": "markdown",
   "metadata": {},
   "source": [
    "importing sparkSesssion to perform operations"
   ]
  },
  {
   "cell_type": "code",
   "execution_count": 4,
   "metadata": {},
   "outputs": [],
   "source": [
    "from pyspark.sql import SparkSession"
   ]
  },
  {
   "cell_type": "code",
   "execution_count": 5,
   "metadata": {},
   "outputs": [],
   "source": [
    "sc = SparkSession.builder.appName(\"cardiovascular diseases prediction\").getOrCreate()"
   ]
  },
  {
   "attachments": {},
   "cell_type": "markdown",
   "metadata": {},
   "source": [
    "we'll read it as a dataframe not an rdd since the dataset is not that huge"
   ]
  },
  {
   "cell_type": "code",
   "execution_count": 6,
   "metadata": {},
   "outputs": [],
   "source": [
    "df = sc.read.csv(\"HeartData.csv\", inferSchema=True, header=True)"
   ]
  },
  {
   "attachments": {},
   "cell_type": "markdown",
   "metadata": {},
   "source": [
    "Data Profiling"
   ]
  },
  {
   "cell_type": "code",
   "execution_count": 7,
   "metadata": {},
   "outputs": [
    {
     "name": "stdout",
     "output_type": "stream",
     "text": [
      "+--------------+--------------------+--------+-------------+-----------+------------+----------+--------+---------+------+------------+-----------+-----------+-----+---------------+-------------------+-----------------+----------------------------+-----------------------+\n",
      "|General_Health|             Checkup|Exercise|Heart_Disease|Skin_Cancer|Other_Cancer|Depression|Diabetes|Arthritis|   Sex|Age_Category|Height_(cm)|Weight_(kg)|  BMI|Smoking_History|Alcohol_Consumption|Fruit_Consumption|Green_Vegetables_Consumption|FriedPotato_Consumption|\n",
      "+--------------+--------------------+--------+-------------+-----------+------------+----------+--------+---------+------+------------+-----------+-----------+-----+---------------+-------------------+-----------------+----------------------------+-----------------------+\n",
      "|          Poor|Within the past 2...|      No|           No|         No|          No|        No|      No|      Yes|Female|       70-74|      150.0|      32.66|14.54|            Yes|                0.0|             30.0|                        16.0|                   12.0|\n",
      "|     Very Good|Within the past year|      No|          Yes|         No|          No|        No|     Yes|       No|Female|       70-74|      165.0|      77.11|28.29|             No|                0.0|             30.0|                         0.0|                    4.0|\n",
      "|     Very Good|Within the past year|     Yes|           No|         No|          No|        No|     Yes|       No|Female|       60-64|      163.0|      88.45|33.47|             No|                4.0|             12.0|                         3.0|                   16.0|\n",
      "|          Poor|Within the past year|     Yes|          Yes|         No|          No|        No|     Yes|       No|  Male|       75-79|      180.0|      93.44|28.73|             No|                0.0|             30.0|                        30.0|                    8.0|\n",
      "|          Good|Within the past year|      No|           No|         No|          No|        No|      No|       No|  Male|         80+|      191.0|      88.45|24.37|            Yes|                0.0|              8.0|                         4.0|                    0.0|\n",
      "+--------------+--------------------+--------+-------------+-----------+------------+----------+--------+---------+------+------------+-----------+-----------+-----+---------------+-------------------+-----------------+----------------------------+-----------------------+\n",
      "only showing top 5 rows\n",
      "\n"
     ]
    }
   ],
   "source": [
    "df.show(5)"
   ]
  },
  {
   "cell_type": "code",
   "execution_count": 8,
   "metadata": {},
   "outputs": [
    {
     "name": "stdout",
     "output_type": "stream",
     "text": [
      "root\n",
      " |-- General_Health: string (nullable = true)\n",
      " |-- Checkup: string (nullable = true)\n",
      " |-- Exercise: string (nullable = true)\n",
      " |-- Heart_Disease: string (nullable = true)\n",
      " |-- Skin_Cancer: string (nullable = true)\n",
      " |-- Other_Cancer: string (nullable = true)\n",
      " |-- Depression: string (nullable = true)\n",
      " |-- Diabetes: string (nullable = true)\n",
      " |-- Arthritis: string (nullable = true)\n",
      " |-- Sex: string (nullable = true)\n",
      " |-- Age_Category: string (nullable = true)\n",
      " |-- Height_(cm): double (nullable = true)\n",
      " |-- Weight_(kg): double (nullable = true)\n",
      " |-- BMI: double (nullable = true)\n",
      " |-- Smoking_History: string (nullable = true)\n",
      " |-- Alcohol_Consumption: double (nullable = true)\n",
      " |-- Fruit_Consumption: double (nullable = true)\n",
      " |-- Green_Vegetables_Consumption: double (nullable = true)\n",
      " |-- FriedPotato_Consumption: double (nullable = true)\n",
      "\n"
     ]
    }
   ],
   "source": [
    "df.printSchema()"
   ]
  },
  {
   "cell_type": "code",
   "execution_count": 9,
   "metadata": {},
   "outputs": [
    {
     "data": {
      "text/plain": [
       "308854"
      ]
     },
     "execution_count": 9,
     "metadata": {},
     "output_type": "execute_result"
    }
   ],
   "source": [
    "df.count()"
   ]
  },
  {
   "cell_type": "code",
   "execution_count": 10,
   "metadata": {},
   "outputs": [
    {
     "name": "stdout",
     "output_type": "stream",
     "text": [
      "+-------------+------+\n",
      "|Heart_Disease| count|\n",
      "+-------------+------+\n",
      "|           No|283883|\n",
      "|          Yes| 24971|\n",
      "+-------------+------+\n",
      "\n"
     ]
    }
   ],
   "source": [
    "df.groupBy(\"Heart_Disease\").count().show()"
   ]
  },
  {
   "cell_type": "code",
   "execution_count": 11,
   "metadata": {},
   "outputs": [
    {
     "data": {
      "text/plain": [
       "[('General_Health', 'string'),\n",
       " ('Checkup', 'string'),\n",
       " ('Exercise', 'string'),\n",
       " ('Heart_Disease', 'string'),\n",
       " ('Skin_Cancer', 'string'),\n",
       " ('Other_Cancer', 'string'),\n",
       " ('Depression', 'string'),\n",
       " ('Diabetes', 'string'),\n",
       " ('Arthritis', 'string'),\n",
       " ('Sex', 'string'),\n",
       " ('Age_Category', 'string'),\n",
       " ('Height_(cm)', 'double'),\n",
       " ('Weight_(kg)', 'double'),\n",
       " ('BMI', 'double'),\n",
       " ('Smoking_History', 'string'),\n",
       " ('Alcohol_Consumption', 'double'),\n",
       " ('Fruit_Consumption', 'double'),\n",
       " ('Green_Vegetables_Consumption', 'double'),\n",
       " ('FriedPotato_Consumption', 'double')]"
      ]
     },
     "execution_count": 11,
     "metadata": {},
     "output_type": "execute_result"
    }
   ],
   "source": [
    "df.dtypes"
   ]
  },
  {
   "attachments": {},
   "cell_type": "markdown",
   "metadata": {},
   "source": [
    "Converting strings to numbers"
   ]
  },
  {
   "cell_type": "code",
   "execution_count": 12,
   "metadata": {},
   "outputs": [],
   "source": [
    "from pyspark.ml.feature import StringIndexer, VectorAssembler"
   ]
  },
  {
   "cell_type": "code",
   "execution_count": 13,
   "metadata": {},
   "outputs": [],
   "source": [
    "dise = StringIndexer(inputCol='Heart_Disease', outputCol='diseases').fit(df)\n",
    "df = dise.transform(df)"
   ]
  },
  {
   "cell_type": "code",
   "execution_count": 14,
   "metadata": {},
   "outputs": [
    {
     "data": {
      "text/plain": [
       "['No', 'Yes']"
      ]
     },
     "execution_count": 14,
     "metadata": {},
     "output_type": "execute_result"
    }
   ],
   "source": [
    "dise.labels"
   ]
  },
  {
   "cell_type": "code",
   "execution_count": 15,
   "metadata": {},
   "outputs": [
    {
     "name": "stdout",
     "output_type": "stream",
     "text": [
      "+--------+\n",
      "|diseases|\n",
      "+--------+\n",
      "|     0.0|\n",
      "|     1.0|\n",
      "+--------+\n",
      "\n"
     ]
    }
   ],
   "source": [
    "df.select(['diseases']).distinct().show()"
   ]
  },
  {
   "cell_type": "code",
   "execution_count": 16,
   "metadata": {},
   "outputs": [
    {
     "data": {
      "text/plain": [
       "[('General_Health', 'string'),\n",
       " ('Checkup', 'string'),\n",
       " ('Exercise', 'string'),\n",
       " ('Heart_Disease', 'string'),\n",
       " ('Skin_Cancer', 'string'),\n",
       " ('Other_Cancer', 'string'),\n",
       " ('Depression', 'string'),\n",
       " ('Diabetes', 'string'),\n",
       " ('Arthritis', 'string'),\n",
       " ('Sex', 'string'),\n",
       " ('Age_Category', 'string'),\n",
       " ('Height_(cm)', 'double'),\n",
       " ('Weight_(kg)', 'double'),\n",
       " ('BMI', 'double'),\n",
       " ('Smoking_History', 'string'),\n",
       " ('Alcohol_Consumption', 'double'),\n",
       " ('Fruit_Consumption', 'double'),\n",
       " ('Green_Vegetables_Consumption', 'double'),\n",
       " ('FriedPotato_Consumption', 'double'),\n",
       " ('diseases', 'double')]"
      ]
     },
     "execution_count": 16,
     "metadata": {},
     "output_type": "execute_result"
    }
   ],
   "source": [
    "df.dtypes"
   ]
  },
  {
   "attachments": {},
   "cell_type": "markdown",
   "metadata": {},
   "source": [
    "Converting sex to double"
   ]
  },
  {
   "cell_type": "code",
   "execution_count": 17,
   "metadata": {},
   "outputs": [],
   "source": [
    "gender = StringIndexer(inputCol='Sex', outputCol=\"gender\").fit(df)\n",
    "df= gender.transform(df)"
   ]
  },
  {
   "cell_type": "code",
   "execution_count": 18,
   "metadata": {},
   "outputs": [
    {
     "name": "stdout",
     "output_type": "stream",
     "text": [
      "+--------------+--------------------+--------+-------------+-----------+------------+----------+--------+---------+------+------------+-----------+-----------+-----+---------------+-------------------+-----------------+----------------------------+-----------------------+--------+------+\n",
      "|General_Health|             Checkup|Exercise|Heart_Disease|Skin_Cancer|Other_Cancer|Depression|Diabetes|Arthritis|   Sex|Age_Category|Height_(cm)|Weight_(kg)|  BMI|Smoking_History|Alcohol_Consumption|Fruit_Consumption|Green_Vegetables_Consumption|FriedPotato_Consumption|diseases|gender|\n",
      "+--------------+--------------------+--------+-------------+-----------+------------+----------+--------+---------+------+------------+-----------+-----------+-----+---------------+-------------------+-----------------+----------------------------+-----------------------+--------+------+\n",
      "|          Poor|Within the past 2...|      No|           No|         No|          No|        No|      No|      Yes|Female|       70-74|      150.0|      32.66|14.54|            Yes|                0.0|             30.0|                        16.0|                   12.0|     0.0|   0.0|\n",
      "|     Very Good|Within the past year|      No|          Yes|         No|          No|        No|     Yes|       No|Female|       70-74|      165.0|      77.11|28.29|             No|                0.0|             30.0|                         0.0|                    4.0|     1.0|   0.0|\n",
      "|     Very Good|Within the past year|     Yes|           No|         No|          No|        No|     Yes|       No|Female|       60-64|      163.0|      88.45|33.47|             No|                4.0|             12.0|                         3.0|                   16.0|     0.0|   0.0|\n",
      "|          Poor|Within the past year|     Yes|          Yes|         No|          No|        No|     Yes|       No|  Male|       75-79|      180.0|      93.44|28.73|             No|                0.0|             30.0|                        30.0|                    8.0|     1.0|   1.0|\n",
      "|          Good|Within the past year|      No|           No|         No|          No|        No|      No|       No|  Male|         80+|      191.0|      88.45|24.37|            Yes|                0.0|              8.0|                         4.0|                    0.0|     0.0|   1.0|\n",
      "+--------------+--------------------+--------+-------------+-----------+------------+----------+--------+---------+------+------------+-----------+-----------+-----+---------------+-------------------+-----------------+----------------------------+-----------------------+--------+------+\n",
      "only showing top 5 rows\n",
      "\n"
     ]
    }
   ],
   "source": [
    "df.show(5)"
   ]
  },
  {
   "cell_type": "code",
   "execution_count": 19,
   "metadata": {},
   "outputs": [],
   "source": [
    "from pyspark.ml.feature import IndexToString"
   ]
  },
  {
   "cell_type": "code",
   "execution_count": 20,
   "metadata": {},
   "outputs": [],
   "source": [
    "its=IndexToString(inputCol='diseases' , outputCol='target')\n",
    "itsdf=its.transform(df)"
   ]
  },
  {
   "cell_type": "code",
   "execution_count": 21,
   "metadata": {},
   "outputs": [
    {
     "name": "stdout",
     "output_type": "stream",
     "text": [
      "+------+\n",
      "|target|\n",
      "+------+\n",
      "|    No|\n",
      "|   Yes|\n",
      "+------+\n",
      "\n"
     ]
    }
   ],
   "source": [
    "itsdf.select('target').distinct().show()"
   ]
  },
  {
   "cell_type": "code",
   "execution_count": 22,
   "metadata": {},
   "outputs": [
    {
     "data": {
      "text/plain": [
       "[('General_Health', 'string'),\n",
       " ('Checkup', 'string'),\n",
       " ('Exercise', 'string'),\n",
       " ('Heart_Disease', 'string'),\n",
       " ('Skin_Cancer', 'string'),\n",
       " ('Other_Cancer', 'string'),\n",
       " ('Depression', 'string'),\n",
       " ('Diabetes', 'string'),\n",
       " ('Arthritis', 'string'),\n",
       " ('Sex', 'string'),\n",
       " ('Age_Category', 'string'),\n",
       " ('Height_(cm)', 'double'),\n",
       " ('Weight_(kg)', 'double'),\n",
       " ('BMI', 'double'),\n",
       " ('Smoking_History', 'string'),\n",
       " ('Alcohol_Consumption', 'double'),\n",
       " ('Fruit_Consumption', 'double'),\n",
       " ('Green_Vegetables_Consumption', 'double'),\n",
       " ('FriedPotato_Consumption', 'double'),\n",
       " ('diseases', 'double'),\n",
       " ('gender', 'double'),\n",
       " ('target', 'string')]"
      ]
     },
     "execution_count": 22,
     "metadata": {},
     "output_type": "execute_result"
    }
   ],
   "source": [
    "itsdf.dtypes"
   ]
  },
  {
   "cell_type": "code",
   "execution_count": 23,
   "metadata": {},
   "outputs": [],
   "source": [
    "coll=itsdf.columns[0:11]\n",
    "coll.append('Alcohol_Consumption')"
   ]
  },
  {
   "attachments": {},
   "cell_type": "markdown",
   "metadata": {},
   "source": [
    "we need to convert all the string datatype columns to integer and we'll use a pipeline to do it all at once"
   ]
  },
  {
   "cell_type": "code",
   "execution_count": 24,
   "metadata": {},
   "outputs": [],
   "source": [
    "from pyspark.ml import Pipeline"
   ]
  },
  {
   "cell_type": "code",
   "execution_count": 25,
   "metadata": {},
   "outputs": [],
   "source": [
    "indexers = []\n",
    "\n",
    "for column in coll:\n",
    "    indexer = StringIndexer(inputCol=column, outputCol=f\"{column}_new\").fit(df)\n",
    "    indexers.append(indexer)\n",
    "\n",
    "pipeline = Pipeline(stages=indexers)\n",
    "df = pipeline.fit(df).transform(df)"
   ]
  },
  {
   "cell_type": "code",
   "execution_count": 26,
   "metadata": {},
   "outputs": [
    {
     "name": "stdout",
     "output_type": "stream",
     "text": [
      "+--------------+--------------------+--------+-------------+-----------+------------+----------+--------+---------+------+------------+-----------+-----------+-----+---------------+-------------------+-----------------+----------------------------+-----------------------+--------+------+------------------+-----------+------------+-----------------+---------------+----------------+--------------+------------+-------------+-------+----------------+-----------------------+\n",
      "|General_Health|             Checkup|Exercise|Heart_Disease|Skin_Cancer|Other_Cancer|Depression|Diabetes|Arthritis|   Sex|Age_Category|Height_(cm)|Weight_(kg)|  BMI|Smoking_History|Alcohol_Consumption|Fruit_Consumption|Green_Vegetables_Consumption|FriedPotato_Consumption|diseases|gender|General_Health_new|Checkup_new|Exercise_new|Heart_Disease_new|Skin_Cancer_new|Other_Cancer_new|Depression_new|Diabetes_new|Arthritis_new|Sex_new|Age_Category_new|Alcohol_Consumption_new|\n",
      "+--------------+--------------------+--------+-------------+-----------+------------+----------+--------+---------+------+------------+-----------+-----------+-----+---------------+-------------------+-----------------+----------------------------+-----------------------+--------+------+------------------+-----------+------------+-----------------+---------------+----------------+--------------+------------+-------------+-------+----------------+-----------------------+\n",
      "|          Poor|Within the past 2...|      No|           No|         No|          No|        No|      No|      Yes|Female|       70-74|      150.0|      32.66|14.54|            Yes|                0.0|             30.0|                        16.0|                   12.0|     0.0|   0.0|               4.0|        1.0|         1.0|              0.0|            0.0|             0.0|           0.0|         0.0|          1.0|    0.0|             2.0|                    0.0|\n",
      "|     Very Good|Within the past year|      No|          Yes|         No|          No|        No|     Yes|       No|Female|       70-74|      165.0|      77.11|28.29|             No|                0.0|             30.0|                         0.0|                    4.0|     1.0|   0.0|               0.0|        0.0|         1.0|              1.0|            0.0|             0.0|           0.0|         1.0|          0.0|    0.0|             2.0|                    0.0|\n",
      "|     Very Good|Within the past year|     Yes|           No|         No|          No|        No|     Yes|       No|Female|       60-64|      163.0|      88.45|33.47|             No|                4.0|             12.0|                         3.0|                   16.0|     0.0|   0.0|               0.0|        0.0|         0.0|              0.0|            0.0|             0.0|           0.0|         1.0|          0.0|    0.0|             1.0|                    2.0|\n",
      "|          Poor|Within the past year|     Yes|          Yes|         No|          No|        No|     Yes|       No|  Male|       75-79|      180.0|      93.44|28.73|             No|                0.0|             30.0|                        30.0|                    8.0|     1.0|   1.0|               4.0|        0.0|         0.0|              1.0|            0.0|             0.0|           0.0|         1.0|          0.0|    1.0|             8.0|                    0.0|\n",
      "|          Good|Within the past year|      No|           No|         No|          No|        No|      No|       No|  Male|         80+|      191.0|      88.45|24.37|            Yes|                0.0|              8.0|                         4.0|                    0.0|     0.0|   1.0|               1.0|        0.0|         1.0|              0.0|            0.0|             0.0|           0.0|         0.0|          0.0|    1.0|             5.0|                    0.0|\n",
      "+--------------+--------------------+--------+-------------+-----------+------------+----------+--------+---------+------+------------+-----------+-----------+-----+---------------+-------------------+-----------------+----------------------------+-----------------------+--------+------+------------------+-----------+------------+-----------------+---------------+----------------+--------------+------------+-------------+-------+----------------+-----------------------+\n",
      "only showing top 5 rows\n",
      "\n"
     ]
    }
   ],
   "source": [
    "df.show(5)"
   ]
  },
  {
   "cell_type": "code",
   "execution_count": 27,
   "metadata": {},
   "outputs": [
    {
     "data": {
      "text/plain": [
       "['General_Health',\n",
       " 'Checkup',\n",
       " 'Exercise',\n",
       " 'Heart_Disease',\n",
       " 'Skin_Cancer',\n",
       " 'Other_Cancer',\n",
       " 'Depression',\n",
       " 'Diabetes',\n",
       " 'Arthritis',\n",
       " 'Sex',\n",
       " 'Age_Category',\n",
       " 'Height_(cm)',\n",
       " 'Weight_(kg)',\n",
       " 'BMI',\n",
       " 'Smoking_History',\n",
       " 'Alcohol_Consumption',\n",
       " 'Fruit_Consumption',\n",
       " 'Green_Vegetables_Consumption',\n",
       " 'FriedPotato_Consumption',\n",
       " 'diseases',\n",
       " 'gender',\n",
       " 'General_Health_new',\n",
       " 'Checkup_new',\n",
       " 'Exercise_new',\n",
       " 'Heart_Disease_new',\n",
       " 'Skin_Cancer_new',\n",
       " 'Other_Cancer_new',\n",
       " 'Depression_new',\n",
       " 'Diabetes_new',\n",
       " 'Arthritis_new',\n",
       " 'Sex_new',\n",
       " 'Age_Category_new',\n",
       " 'Alcohol_Consumption_new']"
      ]
     },
     "execution_count": 27,
     "metadata": {},
     "output_type": "execute_result"
    }
   ],
   "source": [
    "df.columns"
   ]
  },
  {
   "cell_type": "code",
   "execution_count": 28,
   "metadata": {},
   "outputs": [],
   "source": [
    "coll1=['Height_(cm)',\n",
    " 'Weight_(kg)',\n",
    " 'BMI',\n",
    " 'Alcohol_Consumption',\n",
    " 'Fruit_Consumption',\n",
    " 'Green_Vegetables_Consumption',\n",
    " 'FriedPotato_Consumption',\n",
    " 'gender',\n",
    " 'General_Health_new',\n",
    " 'Checkup_new',\n",
    " 'Exercise_new',\n",
    " 'Skin_Cancer_new',\n",
    " 'Other_Cancer_new',\n",
    " 'Depression_new',\n",
    " 'Diabetes_new',\n",
    " 'Arthritis_new',\n",
    " 'Sex_new',\n",
    " 'Age_Category_new',\n",
    " 'Alcohol_Consumption_new']"
   ]
  },
  {
   "cell_type": "code",
   "execution_count": 29,
   "metadata": {},
   "outputs": [],
   "source": [
    "coll2=coll1.copy()\n",
    "coll2.append('diseases')"
   ]
  },
  {
   "cell_type": "code",
   "execution_count": 30,
   "metadata": {},
   "outputs": [],
   "source": [
    "df1 = df.select(coll2)"
   ]
  },
  {
   "cell_type": "code",
   "execution_count": 31,
   "metadata": {},
   "outputs": [
    {
     "name": "stdout",
     "output_type": "stream",
     "text": [
      "+-----------+-----------+-----+-------------------+-----------------+----------------------------+-----------------------+------+------------------+-----------+------------+---------------+----------------+--------------+------------+-------------+-------+----------------+-----------------------+--------+\n",
      "|Height_(cm)|Weight_(kg)|  BMI|Alcohol_Consumption|Fruit_Consumption|Green_Vegetables_Consumption|FriedPotato_Consumption|gender|General_Health_new|Checkup_new|Exercise_new|Skin_Cancer_new|Other_Cancer_new|Depression_new|Diabetes_new|Arthritis_new|Sex_new|Age_Category_new|Alcohol_Consumption_new|diseases|\n",
      "+-----------+-----------+-----+-------------------+-----------------+----------------------------+-----------------------+------+------------------+-----------+------------+---------------+----------------+--------------+------------+-------------+-------+----------------+-----------------------+--------+\n",
      "|      150.0|      32.66|14.54|                0.0|             30.0|                        16.0|                   12.0|   0.0|               4.0|        1.0|         1.0|            0.0|             0.0|           0.0|         0.0|          1.0|    0.0|             2.0|                    0.0|     0.0|\n",
      "|      165.0|      77.11|28.29|                0.0|             30.0|                         0.0|                    4.0|   0.0|               0.0|        0.0|         1.0|            0.0|             0.0|           0.0|         1.0|          0.0|    0.0|             2.0|                    0.0|     1.0|\n",
      "|      163.0|      88.45|33.47|                4.0|             12.0|                         3.0|                   16.0|   0.0|               0.0|        0.0|         0.0|            0.0|             0.0|           0.0|         1.0|          0.0|    0.0|             1.0|                    2.0|     0.0|\n",
      "|      180.0|      93.44|28.73|                0.0|             30.0|                        30.0|                    8.0|   1.0|               4.0|        0.0|         0.0|            0.0|             0.0|           0.0|         1.0|          0.0|    1.0|             8.0|                    0.0|     1.0|\n",
      "|      191.0|      88.45|24.37|                0.0|              8.0|                         4.0|                    0.0|   1.0|               1.0|        0.0|         1.0|            0.0|             0.0|           0.0|         0.0|          0.0|    1.0|             5.0|                    0.0|     0.0|\n",
      "+-----------+-----------+-----+-------------------+-----------------+----------------------------+-----------------------+------+------------------+-----------+------------+---------------+----------------+--------------+------------+-------------+-------+----------------+-----------------------+--------+\n",
      "only showing top 5 rows\n",
      "\n"
     ]
    }
   ],
   "source": [
    "df1.show(5)"
   ]
  },
  {
   "cell_type": "code",
   "execution_count": 32,
   "metadata": {},
   "outputs": [
    {
     "data": {
      "text/plain": [
       "[('Height_(cm)', 'double'),\n",
       " ('Weight_(kg)', 'double'),\n",
       " ('BMI', 'double'),\n",
       " ('Alcohol_Consumption', 'double'),\n",
       " ('Fruit_Consumption', 'double'),\n",
       " ('Green_Vegetables_Consumption', 'double'),\n",
       " ('FriedPotato_Consumption', 'double'),\n",
       " ('gender', 'double'),\n",
       " ('General_Health_new', 'double'),\n",
       " ('Checkup_new', 'double'),\n",
       " ('Exercise_new', 'double'),\n",
       " ('Skin_Cancer_new', 'double'),\n",
       " ('Other_Cancer_new', 'double'),\n",
       " ('Depression_new', 'double'),\n",
       " ('Diabetes_new', 'double'),\n",
       " ('Arthritis_new', 'double'),\n",
       " ('Sex_new', 'double'),\n",
       " ('Age_Category_new', 'double'),\n",
       " ('Alcohol_Consumption_new', 'double'),\n",
       " ('diseases', 'double')]"
      ]
     },
     "execution_count": 32,
     "metadata": {},
     "output_type": "execute_result"
    }
   ],
   "source": [
    "df1.dtypes"
   ]
  },
  {
   "cell_type": "code",
   "execution_count": 33,
   "metadata": {},
   "outputs": [],
   "source": [
    "df1=df1.toPandas().replace('NA',0).astype(float)"
   ]
  },
  {
   "cell_type": "code",
   "execution_count": 34,
   "metadata": {},
   "outputs": [
    {
     "data": {
      "text/plain": [
       "Height_(cm)                     float64\n",
       "Weight_(kg)                     float64\n",
       "BMI                             float64\n",
       "Alcohol_Consumption             float64\n",
       "Fruit_Consumption               float64\n",
       "Green_Vegetables_Consumption    float64\n",
       "FriedPotato_Consumption         float64\n",
       "gender                          float64\n",
       "General_Health_new              float64\n",
       "Checkup_new                     float64\n",
       "Exercise_new                    float64\n",
       "Skin_Cancer_new                 float64\n",
       "Other_Cancer_new                float64\n",
       "Depression_new                  float64\n",
       "Diabetes_new                    float64\n",
       "Arthritis_new                   float64\n",
       "Sex_new                         float64\n",
       "Age_Category_new                float64\n",
       "Alcohol_Consumption_new         float64\n",
       "diseases                        float64\n",
       "dtype: object"
      ]
     },
     "execution_count": 34,
     "metadata": {},
     "output_type": "execute_result"
    }
   ],
   "source": [
    "df1.dtypes"
   ]
  },
  {
   "attachments": {},
   "cell_type": "markdown",
   "metadata": {},
   "source": [
    "Visualization: it has a lot of data and we dont have enough computing power or time to build a pairplot to identify patterns and predict which model would be the most suitable based on the graphs"
   ]
  },
  {
   "cell_type": "code",
   "execution_count": 35,
   "metadata": {},
   "outputs": [],
   "source": [
    "# import seaborn as sns\n",
    "# import pandas as pd\n",
    "# import matplotlib.pyplot as plt\n",
    "# import numpy as np\n",
    "# %matplotlib inline"
   ]
  },
  {
   "cell_type": "code",
   "execution_count": 36,
   "metadata": {},
   "outputs": [],
   "source": [
    "# sns.pairplot(df1, hue='diseases')\n",
    "# plt.show()"
   ]
  },
  {
   "attachments": {},
   "cell_type": "markdown",
   "metadata": {},
   "source": [
    "Converting features into feature vectors"
   ]
  },
  {
   "cell_type": "code",
   "execution_count": 37,
   "metadata": {},
   "outputs": [],
   "source": [
    "from pyspark.ml.feature import VectorAssembler"
   ]
  },
  {
   "cell_type": "code",
   "execution_count": 38,
   "metadata": {},
   "outputs": [
    {
     "name": "stdout",
     "output_type": "stream",
     "text": [
      "Index(['Height_(cm)', 'Weight_(kg)', 'BMI', 'Alcohol_Consumption',\n",
      "       'Fruit_Consumption', 'Green_Vegetables_Consumption',\n",
      "       'FriedPotato_Consumption', 'gender', 'General_Health_new',\n",
      "       'Checkup_new', 'Exercise_new', 'Skin_Cancer_new', 'Other_Cancer_new',\n",
      "       'Depression_new', 'Diabetes_new', 'Arthritis_new', 'Sex_new',\n",
      "       'Age_Category_new', 'Alcohol_Consumption_new', 'diseases'],\n",
      "      dtype='object')\n"
     ]
    }
   ],
   "source": [
    "print(df1.columns)"
   ]
  },
  {
   "attachments": {},
   "cell_type": "markdown",
   "metadata": {},
   "source": [
    "Converting pandas Dataframe back to pyspark dataframe"
   ]
  },
  {
   "cell_type": "code",
   "execution_count": 39,
   "metadata": {},
   "outputs": [],
   "source": [
    "df1= sc.createDataFrame(df1)"
   ]
  },
  {
   "cell_type": "code",
   "execution_count": 40,
   "metadata": {},
   "outputs": [],
   "source": [
    "fea= VectorAssembler(inputCols=coll1, outputCol='features')"
   ]
  },
  {
   "cell_type": "code",
   "execution_count": 41,
   "metadata": {},
   "outputs": [],
   "source": [
    "df2=fea.transform(df1)"
   ]
  },
  {
   "cell_type": "code",
   "execution_count": 42,
   "metadata": {},
   "outputs": [
    {
     "name": "stdout",
     "output_type": "stream",
     "text": [
      "+-----------+-----------+-----+-------------------+-----------------+----------------------------+-----------------------+------+------------------+-----------+------------+---------------+----------------+--------------+------------+-------------+-------+----------------+-----------------------+--------+--------------------+\n",
      "|Height_(cm)|Weight_(kg)|  BMI|Alcohol_Consumption|Fruit_Consumption|Green_Vegetables_Consumption|FriedPotato_Consumption|gender|General_Health_new|Checkup_new|Exercise_new|Skin_Cancer_new|Other_Cancer_new|Depression_new|Diabetes_new|Arthritis_new|Sex_new|Age_Category_new|Alcohol_Consumption_new|diseases|            features|\n",
      "+-----------+-----------+-----+-------------------+-----------------+----------------------------+-----------------------+------+------------------+-----------+------------+---------------+----------------+--------------+------------+-------------+-------+----------------+-----------------------+--------+--------------------+\n",
      "|      150.0|      32.66|14.54|                0.0|             30.0|                        16.0|                   12.0|   0.0|               4.0|        1.0|         1.0|            0.0|             0.0|           0.0|         0.0|          1.0|    0.0|             2.0|                    0.0|     0.0|(19,[0,1,2,4,5,6,...|\n",
      "|      165.0|      77.11|28.29|                0.0|             30.0|                         0.0|                    4.0|   0.0|               0.0|        0.0|         1.0|            0.0|             0.0|           0.0|         1.0|          0.0|    0.0|             2.0|                    0.0|     1.0|(19,[0,1,2,4,6,10...|\n",
      "|      163.0|      88.45|33.47|                4.0|             12.0|                         3.0|                   16.0|   0.0|               0.0|        0.0|         0.0|            0.0|             0.0|           0.0|         1.0|          0.0|    0.0|             1.0|                    2.0|     0.0|(19,[0,1,2,3,4,5,...|\n",
      "|      180.0|      93.44|28.73|                0.0|             30.0|                        30.0|                    8.0|   1.0|               4.0|        0.0|         0.0|            0.0|             0.0|           0.0|         1.0|          0.0|    1.0|             8.0|                    0.0|     1.0|(19,[0,1,2,4,5,6,...|\n",
      "|      191.0|      88.45|24.37|                0.0|              8.0|                         4.0|                    0.0|   1.0|               1.0|        0.0|         1.0|            0.0|             0.0|           0.0|         0.0|          0.0|    1.0|             5.0|                    0.0|     0.0|(19,[0,1,2,4,5,7,...|\n",
      "+-----------+-----------+-----+-------------------+-----------------+----------------------------+-----------------------+------+------------------+-----------+------------+---------------+----------------+--------------+------------+-------------+-------+----------------+-----------------------+--------+--------------------+\n",
      "only showing top 5 rows\n",
      "\n"
     ]
    }
   ],
   "source": [
    "df2.show(5)"
   ]
  },
  {
   "cell_type": "code",
   "execution_count": 43,
   "metadata": {},
   "outputs": [],
   "source": [
    "traind,testd= df2.randomSplit([0.8,0.2])"
   ]
  },
  {
   "attachments": {},
   "cell_type": "markdown",
   "metadata": {},
   "source": [
    "Using RandomForestClassifier"
   ]
  },
  {
   "cell_type": "code",
   "execution_count": 44,
   "metadata": {},
   "outputs": [],
   "source": [
    "from pyspark.ml.classification import RandomForestClassifier"
   ]
  },
  {
   "cell_type": "code",
   "execution_count": 45,
   "metadata": {},
   "outputs": [],
   "source": [
    "lr= RandomForestClassifier(featuresCol='features', labelCol='diseases')"
   ]
  },
  {
   "cell_type": "code",
   "execution_count": 46,
   "metadata": {},
   "outputs": [],
   "source": [
    "lrm=lr.fit(traind)"
   ]
  },
  {
   "cell_type": "code",
   "execution_count": 47,
   "metadata": {},
   "outputs": [],
   "source": [
    "y=lrm.transform(testd)"
   ]
  },
  {
   "cell_type": "code",
   "execution_count": 48,
   "metadata": {},
   "outputs": [
    {
     "name": "stdout",
     "output_type": "stream",
     "text": [
      "['Height_(cm)', 'Weight_(kg)', 'BMI', 'Alcohol_Consumption', 'Fruit_Consumption', 'Green_Vegetables_Consumption', 'FriedPotato_Consumption', 'gender', 'General_Health_new', 'Checkup_new', 'Exercise_new', 'Skin_Cancer_new', 'Other_Cancer_new', 'Depression_new', 'Diabetes_new', 'Arthritis_new', 'Sex_new', 'Age_Category_new', 'Alcohol_Consumption_new', 'diseases', 'features', 'rawPrediction', 'probability', 'prediction']\n"
     ]
    }
   ],
   "source": [
    "print(y.columns)"
   ]
  },
  {
   "cell_type": "code",
   "execution_count": 49,
   "metadata": {},
   "outputs": [
    {
     "name": "stdout",
     "output_type": "stream",
     "text": [
      "+--------+--------------------+--------------------+----------+\n",
      "|diseases|       rawPrediction|         probability|prediction|\n",
      "+--------+--------------------+--------------------+----------+\n",
      "|     0.0|[18.5571497166680...|[0.92785748583340...|       0.0|\n",
      "|     0.0|[18.5716676781295...|[0.92858338390647...|       0.0|\n",
      "|     0.0|[18.5716676781295...|[0.92858338390647...|       0.0|\n",
      "|     0.0|[18.5716676781295...|[0.92858338390647...|       0.0|\n",
      "|     0.0|[17.4873012303677...|[0.87436506151838...|       0.0|\n",
      "|     0.0|[18.5571497166680...|[0.92785748583340...|       0.0|\n",
      "|     0.0|[18.5716676781295...|[0.92858338390647...|       0.0|\n",
      "|     0.0|[17.4873012303677...|[0.87436506151838...|       0.0|\n",
      "|     0.0|[18.1376762029048...|[0.90688381014524...|       0.0|\n",
      "|     0.0|[18.5571497166680...|[0.92785748583340...|       0.0|\n",
      "|     0.0|[17.4873012303677...|[0.87436506151838...|       0.0|\n",
      "|     0.0|[18.5716676781295...|[0.92858338390647...|       0.0|\n",
      "|     0.0|[18.1435534973552...|[0.90717767486776...|       0.0|\n",
      "|     0.0|[18.5716676781295...|[0.92858338390647...|       0.0|\n",
      "|     0.0|[18.5716676781295...|[0.92858338390647...|       0.0|\n",
      "|     0.0|[18.2655606602562...|[0.91327803301281...|       0.0|\n",
      "|     0.0|[18.5716676781295...|[0.92858338390647...|       0.0|\n",
      "|     0.0|[18.5716676781295...|[0.92858338390647...|       0.0|\n",
      "|     0.0|[17.4873012303677...|[0.87436506151838...|       0.0|\n",
      "|     0.0|[18.5716676781295...|[0.92858338390647...|       0.0|\n",
      "+--------+--------------------+--------------------+----------+\n",
      "only showing top 20 rows\n",
      "\n"
     ]
    }
   ],
   "source": [
    "y.select(['diseases', 'rawPrediction', 'probability', 'prediction']).show()"
   ]
  },
  {
   "attachments": {},
   "cell_type": "markdown",
   "metadata": {},
   "source": [
    "Model Evaluation"
   ]
  },
  {
   "cell_type": "code",
   "execution_count": 50,
   "metadata": {},
   "outputs": [],
   "source": [
    "from pyspark.ml.evaluation import MulticlassClassificationEvaluator"
   ]
  },
  {
   "cell_type": "code",
   "execution_count": 51,
   "metadata": {},
   "outputs": [],
   "source": [
    "eval= MulticlassClassificationEvaluator(labelCol='diseases', metricName=\"accuracy\")"
   ]
  },
  {
   "cell_type": "code",
   "execution_count": 52,
   "metadata": {},
   "outputs": [
    {
     "data": {
      "text/plain": [
       "0.9186998433740776"
      ]
     },
     "execution_count": 52,
     "metadata": {},
     "output_type": "execute_result"
    }
   ],
   "source": [
    "eval.evaluate(y)"
   ]
  },
  {
   "cell_type": "code",
   "execution_count": 53,
   "metadata": {},
   "outputs": [],
   "source": [
    "from pyspark.mllib.evaluation import MulticlassMetrics"
   ]
  },
  {
   "attachments": {},
   "cell_type": "markdown",
   "metadata": {},
   "source": [
    "Creating a RDD consisting of dis(disease) and prediction"
   ]
  },
  {
   "cell_type": "code",
   "execution_count": 54,
   "metadata": {},
   "outputs": [
    {
     "name": "stderr",
     "output_type": "stream",
     "text": [
      "C:\\Users\\Utkarsh Mahajan\\AppData\\Local\\Packages\\PythonSoftwareFoundation.Python.3.11_qbz5n2kfra8p0\\LocalCache\\local-packages\\Python311\\site-packages\\pyspark\\sql\\context.py:157: FutureWarning: Deprecated in 3.0.0. Use SparkSession.builder.getOrCreate() instead.\n",
      "  warnings.warn(\n"
     ]
    }
   ],
   "source": [
    "lrmetrics =MulticlassMetrics(y['diseases', 'prediction'].rdd)"
   ]
  },
  {
   "cell_type": "code",
   "execution_count": 55,
   "metadata": {},
   "outputs": [
    {
     "name": "stdout",
     "output_type": "stream",
     "text": [
      "the accuracy of this model is 91.87% \n"
     ]
    }
   ],
   "source": [
    "print(f\"the accuracy of this model is {round(lrmetrics.accuracy*100,2)}% \")"
   ]
  }
 ],
 "metadata": {
  "kernelspec": {
   "display_name": "Python 3",
   "language": "python",
   "name": "python3"
  },
  "language_info": {
   "codemirror_mode": {
    "name": "ipython",
    "version": 3
   },
   "file_extension": ".py",
   "mimetype": "text/x-python",
   "name": "python",
   "nbconvert_exporter": "python",
   "pygments_lexer": "ipython3",
   "version": "3.11.4"
  },
  "orig_nbformat": 4,
  "vscode": {
   "interpreter": {
    "hash": "59b35d282a957e5718614f346bda81ad4d8d1407ed1c72789e7af171e8c0f949"
   }
  }
 },
 "nbformat": 4,
 "nbformat_minor": 2
}
